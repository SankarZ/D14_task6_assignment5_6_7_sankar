{
 "cells": [
  {
   "cell_type": "code",
   "execution_count": 1,
   "metadata": {},
   "outputs": [],
   "source": [
    "import pandas as pd\n",
    "import matplotlib.pyplot as plt\n",
    "import numpy as np\n",
    "from sklearn import linear_model"
   ]
  },
  {
   "cell_type": "markdown",
   "metadata": {},
   "source": [
    "# Assignment5\n"
   ]
  },
  {
   "cell_type": "markdown",
   "metadata": {},
   "source": [
    "## Ground Cricket Chirps\n",
    "\n",
    "In _The Song of Insects_ (1948) by George W. Pierce, Pierce mechanically measured the frequency (the number of wing vibrations per second) of chirps (or pulses of sound) made by a striped ground cricket, at various ground temperatures.  Since crickets are ectotherms (cold-blooded), the rate of their physiological processes and their overall metabolism are influenced by temperature.  Consequently, there is reason to believe that temperature would have a profound effect on aspects of their behavior, such as chirp frequency.\n",
    "\n",
    "In general, it was found that crickets did not sing at temperatures colder than 60º F. or warmer than 100º F."
   ]
  },
  {
   "cell_type": "code",
   "execution_count": 2,
   "metadata": {},
   "outputs": [],
   "source": [
    "ground_cricket_data = {\"Chirps/Second\": [20.0, 16.0, 19.8, 18.4, 17.1, 15.5, 14.7,\n",
    "                                         15.7, 15.4, 16.3, 15.0, 17.2, 16.0, 17.0,\n",
    "                                         14.4],\n",
    "                       \"Ground Temperature\": [88.6, 71.6, 93.3, 84.3, 80.6, 75.2, 69.7,\n",
    "                                              71.6, 69.4, 83.3, 79.6, 82.6, 80.6, 83.5,\n",
    "                                              76.3]}\n",
    "df = pd.DataFrame(ground_cricket_data)"
   ]
  },
  {
   "cell_type": "markdown",
   "metadata": {},
   "source": [
    "### Tasks\n",
    "\n",
    "1. Find the linear regression equation for this data.\n",
    "2. Chart the original data and the equation on the chart.\n",
    "3. Find the equation's $R^2$ score (use the `.score` method) to determine whether the\n",
    "equation is a good fit for this data. (0.8 and greater is considered a strong correlation.)\n",
    "4. Extrapolate data:  If the ground temperature reached 95, then at what approximate rate would you expect the crickets to be chirping?\n",
    "5. Interpolate data:  With a listening device, you discovered that on a particular morning the crickets were chirping at a rate of 18 chirps per second.  What was the approximate ground temperature that morning? "
   ]
  },
  {
   "cell_type": "code",
   "execution_count": 3,
   "metadata": {},
   "outputs": [
    {
     "name": "stdout",
     "output_type": "stream",
     "text": [
      "    Chirps/Second  Ground Temperature\n",
      "0            20.0                88.6\n",
      "1            16.0                71.6\n",
      "2            19.8                93.3\n",
      "3            18.4                84.3\n",
      "4            17.1                80.6\n",
      "5            15.5                75.2\n",
      "6            14.7                69.7\n",
      "7            15.7                71.6\n",
      "8            15.4                69.4\n",
      "9            16.3                83.3\n",
      "10           15.0                79.6\n",
      "11           17.2                82.6\n",
      "12           16.0                80.6\n",
      "13           17.0                83.5\n",
      "14           14.4                76.3\n"
     ]
    }
   ],
   "source": [
    "print(df)"
   ]
  },
  {
   "cell_type": "code",
   "execution_count": 4,
   "metadata": {},
   "outputs": [
    {
     "data": {
      "text/html": [
       "<div>\n",
       "<style scoped>\n",
       "    .dataframe tbody tr th:only-of-type {\n",
       "        vertical-align: middle;\n",
       "    }\n",
       "\n",
       "    .dataframe tbody tr th {\n",
       "        vertical-align: top;\n",
       "    }\n",
       "\n",
       "    .dataframe thead th {\n",
       "        text-align: right;\n",
       "    }\n",
       "</style>\n",
       "<table border=\"1\" class=\"dataframe\">\n",
       "  <thead>\n",
       "    <tr style=\"text-align: right;\">\n",
       "      <th></th>\n",
       "      <th>Chirps/Second</th>\n",
       "      <th>Ground Temperature</th>\n",
       "    </tr>\n",
       "  </thead>\n",
       "  <tbody>\n",
       "    <tr>\n",
       "      <th>count</th>\n",
       "      <td>15.000000</td>\n",
       "      <td>15.000000</td>\n",
       "    </tr>\n",
       "    <tr>\n",
       "      <th>mean</th>\n",
       "      <td>16.566667</td>\n",
       "      <td>79.346667</td>\n",
       "    </tr>\n",
       "    <tr>\n",
       "      <th>std</th>\n",
       "      <td>1.712837</td>\n",
       "      <td>7.020467</td>\n",
       "    </tr>\n",
       "    <tr>\n",
       "      <th>min</th>\n",
       "      <td>14.400000</td>\n",
       "      <td>69.400000</td>\n",
       "    </tr>\n",
       "    <tr>\n",
       "      <th>25%</th>\n",
       "      <td>15.450000</td>\n",
       "      <td>73.400000</td>\n",
       "    </tr>\n",
       "    <tr>\n",
       "      <th>50%</th>\n",
       "      <td>16.000000</td>\n",
       "      <td>80.600000</td>\n",
       "    </tr>\n",
       "    <tr>\n",
       "      <th>75%</th>\n",
       "      <td>17.150000</td>\n",
       "      <td>83.400000</td>\n",
       "    </tr>\n",
       "    <tr>\n",
       "      <th>max</th>\n",
       "      <td>20.000000</td>\n",
       "      <td>93.300000</td>\n",
       "    </tr>\n",
       "  </tbody>\n",
       "</table>\n",
       "</div>"
      ],
      "text/plain": [
       "       Chirps/Second  Ground Temperature\n",
       "count      15.000000           15.000000\n",
       "mean       16.566667           79.346667\n",
       "std         1.712837            7.020467\n",
       "min        14.400000           69.400000\n",
       "25%        15.450000           73.400000\n",
       "50%        16.000000           80.600000\n",
       "75%        17.150000           83.400000\n",
       "max        20.000000           93.300000"
      ]
     },
     "execution_count": 4,
     "metadata": {},
     "output_type": "execute_result"
    }
   ],
   "source": [
    "df.describe()"
   ]
  },
  {
   "cell_type": "code",
   "execution_count": 5,
   "metadata": {},
   "outputs": [],
   "source": [
    "# x = df.iloc[:, :-1].values\n",
    "# y = df.iloc[:, 1].values"
   ]
  },
  {
   "cell_type": "code",
   "execution_count": 6,
   "metadata": {},
   "outputs": [],
   "source": [
    "x = df['Ground Temperature']\n",
    "x = x.to_frame()\n",
    "y = df['Chirps/Second']"
   ]
  },
  {
   "cell_type": "code",
   "execution_count": 7,
   "metadata": {},
   "outputs": [],
   "source": [
    "# #Split the data into train and test dataset\n",
    "# from sklearn.model_selection import train_test_split\n",
    "# x_train,x_test,y_train,y_test=train_test_split(x,y,test_size=0.3,random_state=20)"
   ]
  },
  {
   "cell_type": "code",
   "execution_count": 8,
   "metadata": {},
   "outputs": [
    {
     "name": "stdout",
     "output_type": "stream",
     "text": [
      "    Ground Temperature\n",
      "0                 88.6\n",
      "1                 71.6\n",
      "2                 93.3\n",
      "3                 84.3\n",
      "4                 80.6\n",
      "5                 75.2\n",
      "6                 69.7\n",
      "7                 71.6\n",
      "8                 69.4\n",
      "9                 83.3\n",
      "10                79.6\n",
      "11                82.6\n",
      "12                80.6\n",
      "13                83.5\n",
      "14                76.3 0     20.0\n",
      "1     16.0\n",
      "2     19.8\n",
      "3     18.4\n",
      "4     17.1\n",
      "5     15.5\n",
      "6     14.7\n",
      "7     15.7\n",
      "8     15.4\n",
      "9     16.3\n",
      "10    15.0\n",
      "11    17.2\n",
      "12    16.0\n",
      "13    17.0\n",
      "14    14.4\n",
      "Name: Chirps/Second, dtype: float64\n"
     ]
    }
   ],
   "source": [
    "print(x,y)"
   ]
  },
  {
   "cell_type": "code",
   "execution_count": 9,
   "metadata": {},
   "outputs": [
    {
     "data": {
      "text/plain": [
       "LinearRegression()"
      ]
     },
     "execution_count": 9,
     "metadata": {},
     "output_type": "execute_result"
    }
   ],
   "source": [
    "from sklearn.linear_model import LinearRegression\n",
    "linreg=LinearRegression()\n",
    "linreg.fit(x,y)\n"
   ]
  },
  {
   "cell_type": "code",
   "execution_count": 10,
   "metadata": {},
   "outputs": [
    {
     "name": "stdout",
     "output_type": "stream",
     "text": [
      "intercept: 0.4593146452359562\n",
      "coefficient: [0.20299973]\n"
     ]
    }
   ],
   "source": [
    "print('intercept:', linreg.intercept_)\n",
    "print('coefficient:', linreg.coef_)"
   ]
  },
  {
   "cell_type": "code",
   "execution_count": 11,
   "metadata": {},
   "outputs": [
    {
     "data": {
      "text/plain": [
       "[<matplotlib.lines.Line2D at 0x21bfdfaf190>]"
      ]
     },
     "execution_count": 11,
     "metadata": {},
     "output_type": "execute_result"
    },
    {
     "data": {
      "image/png": "[encoded data removed]",
      "text/plain": [
       "<Figure size 432x288 with 1 Axes>"
      ]
     },
     "metadata": {
      "needs_background": "light"
     },
     "output_type": "display_data"
    }
   ],
   "source": [
    "plt.scatter(x, y, color='blue')\n",
    "plt.plot(x, linreg.predict(x), color='brown')"
   ]
  },
  {
   "cell_type": "code",
   "execution_count": 12,
   "metadata": {},
   "outputs": [
    {
     "name": "stdout",
     "output_type": "stream",
     "text": [
      "R^square value:  0.6922946529147\n"
     ]
    }
   ],
   "source": [
    "print('R^square value: ', linreg.score(x, y))"
   ]
  },
  {
   "cell_type": "code",
   "execution_count": 13,
   "metadata": {},
   "outputs": [
    {
     "name": "stdout",
     "output_type": "stream",
     "text": [
      "[19.74428913]\n"
     ]
    }
   ],
   "source": [
    "#Extrapolate data: If the ground temperature reached 95, then at what approximate rate would you expect the crickets to be chirping?\n",
    "k=np.array([95])\n",
    "j=k.reshape(1, -1)\n",
    "print(linreg.predict(j))"
   ]
  },
  {
   "cell_type": "code",
   "execution_count": 14,
   "metadata": {},
   "outputs": [
    {
     "name": "stdout",
     "output_type": "stream",
     "text": [
      "[86.40743135]\n"
     ]
    }
   ],
   "source": [
    "#Interpolate data: With a listening device, you discovered that on a particular morning the crickets were chirping at a rate of 18 chirps per second. What was the approximate ground temperature that morning\n",
    "\n",
    "interpolate=(18 - linreg.intercept_) / linreg.coef_\n",
    "print(interpolate)"
   ]
  },
  {
   "cell_type": "markdown",
   "metadata": {},
   "source": [
    "# Assignment6"
   ]
  },
  {
   "cell_type": "markdown",
   "metadata": {},
   "source": [
    "## Brain vs. Body Weight\n",
    "\n",
    "In the file `brain_body.txt`, the average brain and body weight for a number of mammal species are recorded. Load this data into a Pandas data frame.\n",
    "\n",
    "### Tasks\n",
    "\n",
    "1. Find the linear regression equation for this data for brain weight to body weight.\n",
    "2. Chart the original data and the equation on the chart.\n",
    "3. Find the equation's $R^2$ score (use the `.score` method) to determine whether the\n",
    "equation is a good fit for this data. (0.8 and greater is considered a strong correlation.)"
   ]
  },
  {
   "cell_type": "code",
   "execution_count": 29,
   "metadata": {},
   "outputs": [
    {
     "name": "stdout",
     "output_type": "stream",
     "text": [
      "      Brain   Body\n",
      "0     3.385   44.5\n",
      "1     0.480   15.5\n",
      "2     1.350    8.1\n",
      "3   465.000  423.0\n",
      "4    36.330  119.5\n",
      "..      ...    ...\n",
      "57  160.000  169.0\n",
      "58    0.900    2.6\n",
      "59    1.620   11.4\n",
      "60    0.104    2.5\n",
      "61    4.235   50.4\n",
      "\n",
      "[62 rows x 2 columns]\n"
     ]
    }
   ],
   "source": [
    "df = pd.read_fwf(\"brain_body.txt\")\n",
    "print(df)"
   ]
  },
  {
   "cell_type": "code",
   "execution_count": 30,
   "metadata": {},
   "outputs": [],
   "source": [
    "x2 = df['Brain']\n",
    "x2 = x2.to_frame()\n",
    "y2 = df['Body']"
   ]
  },
  {
   "cell_type": "code",
   "execution_count": 31,
   "metadata": {},
   "outputs": [
    {
     "data": {
      "text/plain": [
       "LinearRegression()"
      ]
     },
     "execution_count": 31,
     "metadata": {},
     "output_type": "execute_result"
    }
   ],
   "source": [
    "linreg2=LinearRegression()\n",
    "linreg2.fit(x2,y2)\n"
   ]
  },
  {
   "cell_type": "code",
   "execution_count": 32,
   "metadata": {},
   "outputs": [
    {
     "name": "stdout",
     "output_type": "stream",
     "text": [
      "intercept: 91.00439620740687\n",
      "coefficient: [0.96649637]\n"
     ]
    }
   ],
   "source": [
    "print('intercept:', linreg2.intercept_)\n",
    "print('coefficient:', linreg2.coef_)"
   ]
  },
  {
   "cell_type": "code",
   "execution_count": 36,
   "metadata": {},
   "outputs": [
    {
     "data": {
      "text/plain": [
       "[<matplotlib.lines.Line2D at 0x21bfe6b66a0>]"
      ]
     },
     "execution_count": 36,
     "metadata": {},
     "output_type": "execute_result"
    },
    {
     "data": {
      "image/png": "[encoded data removed]",
      "text/plain": [
       "<Figure size 432x288 with 1 Axes>"
      ]
     },
     "metadata": {
      "needs_background": "light"
     },
     "output_type": "display_data"
    }
   ],
   "source": [
    "plt.scatter(x2, y2, color='blue')\n",
    "plt.plot(x2, linreg2.predict(x2), color='brown')"
   ]
  },
  {
   "cell_type": "code",
   "execution_count": 35,
   "metadata": {},
   "outputs": [
    {
     "name": "stdout",
     "output_type": "stream",
     "text": [
      "r-squared:  0.8726620843043331\n"
     ]
    }
   ],
   "source": [
    "# R-Squared Value\n",
    "print('r-squared: ', linreg2.score(x2, y2))"
   ]
  },
  {
   "cell_type": "markdown",
   "metadata": {},
   "source": [
    "# Assignment7"
   ]
  },
  {
   "cell_type": "markdown",
   "metadata": {},
   "source": [
    "## Salary Discrimination\n",
    "\n",
    "The file `salary.txt` contains data for 52 tenure-track professors at a small Midwestern college. This data was used in legal proceedings in the 1980s about discrimination against women in salary.\n",
    "\n",
    "The data in the file, by column:\n",
    "\n",
    "1. Sex. 1 for female, 0 for male.\n",
    "2. Rank. 1 for assistant professor, 2 for associate professor, 3 for full professor.\n",
    "3. Year. Number of years in current rank.\n",
    "4. Degree. Highest degree. 1 for doctorate, 0 for master's.\n",
    "5. YSdeg. Years since highest degree was earned.\n",
    "6. Salary. Salary/year in dollars.\n",
    "\n",
    "### Tasks\n",
    "\n",
    "1. Find the linear regression equation for this data using columns 1-5 to column 6.\n",
    "2. Find the selection of columns with the best $R^2$ score.\n",
    "3. Report whether sex is a factor in salary."
   ]
  },
  {
   "cell_type": "code",
   "execution_count": 21,
   "metadata": {},
   "outputs": [
    {
     "name": "stdout",
     "output_type": "stream",
     "text": [
      "    Sex  Rank  Year  Degree  YSdeg  Salary\n",
      "0     0     3    25       1     35   36350\n",
      "1     0     3    13       1     22   35350\n",
      "2     0     3    10       1     23   28200\n",
      "3     1     3     7       1     27   26775\n",
      "4     0     3    19       0     30   33696\n",
      "5     0     3    16       1     21   28516\n",
      "6     1     3     0       0     32   24900\n",
      "7     0     3    16       1     18   31909\n",
      "8     0     3    13       0     30   31850\n",
      "9     0     3    13       0     31   32850\n",
      "10    0     3    12       1     22   27025\n",
      "11    0     2    15       1     19   24750\n",
      "12    0     3     9       1     17   28200\n",
      "13    0     2     9       0     27   23712\n",
      "14    0     3     9       1     24   25748\n",
      "15    0     3     7       1     15   29342\n",
      "16    0     3    13       1     20   31114\n",
      "17    0     2    11       0     14   24742\n",
      "18    0     2    10       0     15   22906\n",
      "19    0     3     6       0     21   24450\n",
      "20    0     1    16       0     23   19175\n",
      "21    0     2     8       0     31   20525\n",
      "22    0     3     7       1     13   27959\n",
      "23    1     3     8       1     24   38045\n",
      "24    0     2     9       1     12   24832\n",
      "25    0     3     5       1     18   25400\n",
      "26    0     2    11       1     14   24800\n",
      "27    1     3     5       1     16   25500\n",
      "28    0     2     3       0      7   26182\n",
      "29    0     2     3       0     17   23725\n",
      "30    1     1    10       0     15   21600\n",
      "31    0     2    11       0     31   23300\n",
      "32    0     1     9       0     14   23713\n",
      "33    1     2     4       0     33   20690\n",
      "34    1     2     6       0     29   22450\n",
      "35    0     2     1       1      9   20850\n",
      "36    1     1     8       1     14   18304\n",
      "37    0     1     4       1      4   17095\n",
      "38    0     1     4       1      5   16700\n",
      "39    0     1     4       1      4   17600\n",
      "40    0     1     3       1      4   18075\n",
      "41    0     1     3       0     11   18000\n",
      "42    0     2     0       1      7   20999\n",
      "43    1     1     3       1      3   17250\n",
      "44    0     1     2       1      3   16500\n",
      "45    0     1     2       1      1   16094\n",
      "46    1     1     2       1      6   16150\n",
      "47    1     1     2       1      2   15350\n",
      "48    0     1     1       1      1   16244\n",
      "49    1     1     1       1      1   16686\n",
      "50    1     1     1       1      1   15000\n",
      "51    1     1     0       1      2   20300\n"
     ]
    }
   ],
   "source": [
    "df = pd.read_fwf(\"salary.txt\", header=None, \n",
    "                 names=[\"Sex\", \"Rank\", \"Year\", \"Degree\", \"YSdeg\", \"Salary\"])\n",
    "print(df)"
   ]
  },
  {
   "cell_type": "code",
   "execution_count": 22,
   "metadata": {},
   "outputs": [],
   "source": [
    "feature = ['Sex', 'Rank', 'Year', 'Degree', 'YSdeg']\n",
    "x3=df[feature]\n",
    "y3=df['Salary']"
   ]
  },
  {
   "cell_type": "code",
   "execution_count": 23,
   "metadata": {},
   "outputs": [
    {
     "name": "stdout",
     "output_type": "stream",
     "text": [
      "    Sex  Rank  Year  Degree  YSdeg\n",
      "0     0     3    25       1     35\n",
      "1     0     3    13       1     22\n",
      "2     0     3    10       1     23\n",
      "3     1     3     7       1     27\n",
      "4     0     3    19       0     30\n",
      "5     0     3    16       1     21\n",
      "6     1     3     0       0     32\n",
      "7     0     3    16       1     18\n",
      "8     0     3    13       0     30\n",
      "9     0     3    13       0     31\n",
      "10    0     3    12       1     22\n",
      "11    0     2    15       1     19\n",
      "12    0     3     9       1     17\n",
      "13    0     2     9       0     27\n",
      "14    0     3     9       1     24\n",
      "15    0     3     7       1     15\n",
      "16    0     3    13       1     20\n",
      "17    0     2    11       0     14\n",
      "18    0     2    10       0     15\n",
      "19    0     3     6       0     21\n",
      "20    0     1    16       0     23\n",
      "21    0     2     8       0     31\n",
      "22    0     3     7       1     13\n",
      "23    1     3     8       1     24\n",
      "24    0     2     9       1     12\n",
      "25    0     3     5       1     18\n",
      "26    0     2    11       1     14\n",
      "27    1     3     5       1     16\n",
      "28    0     2     3       0      7\n",
      "29    0     2     3       0     17\n",
      "30    1     1    10       0     15\n",
      "31    0     2    11       0     31\n",
      "32    0     1     9       0     14\n",
      "33    1     2     4       0     33\n",
      "34    1     2     6       0     29\n",
      "35    0     2     1       1      9\n",
      "36    1     1     8       1     14\n",
      "37    0     1     4       1      4\n",
      "38    0     1     4       1      5\n",
      "39    0     1     4       1      4\n",
      "40    0     1     3       1      4\n",
      "41    0     1     3       0     11\n",
      "42    0     2     0       1      7\n",
      "43    1     1     3       1      3\n",
      "44    0     1     2       1      3\n",
      "45    0     1     2       1      1\n",
      "46    1     1     2       1      6\n",
      "47    1     1     2       1      2\n",
      "48    0     1     1       1      1\n",
      "49    1     1     1       1      1\n",
      "50    1     1     1       1      1\n",
      "51    1     1     0       1      2\n"
     ]
    }
   ],
   "source": [
    "print(x3)"
   ]
  },
  {
   "cell_type": "code",
   "execution_count": 24,
   "metadata": {},
   "outputs": [
    {
     "name": "stdout",
     "output_type": "stream",
     "text": [
      "0     36350\n",
      "1     35350\n",
      "2     28200\n",
      "3     26775\n",
      "4     33696\n",
      "5     28516\n",
      "6     24900\n",
      "7     31909\n",
      "8     31850\n",
      "9     32850\n",
      "10    27025\n",
      "11    24750\n",
      "12    28200\n",
      "13    23712\n",
      "14    25748\n",
      "15    29342\n",
      "16    31114\n",
      "17    24742\n",
      "18    22906\n",
      "19    24450\n",
      "20    19175\n",
      "21    20525\n",
      "22    27959\n",
      "23    38045\n",
      "24    24832\n",
      "25    25400\n",
      "26    24800\n",
      "27    25500\n",
      "28    26182\n",
      "29    23725\n",
      "30    21600\n",
      "31    23300\n",
      "32    23713\n",
      "33    20690\n",
      "34    22450\n",
      "35    20850\n",
      "36    18304\n",
      "37    17095\n",
      "38    16700\n",
      "39    17600\n",
      "40    18075\n",
      "41    18000\n",
      "42    20999\n",
      "43    17250\n",
      "44    16500\n",
      "45    16094\n",
      "46    16150\n",
      "47    15350\n",
      "48    16244\n",
      "49    16686\n",
      "50    15000\n",
      "51    20300\n",
      "Name: Salary, dtype: int64\n"
     ]
    }
   ],
   "source": [
    "print(y3)"
   ]
  },
  {
   "cell_type": "code",
   "execution_count": 25,
   "metadata": {},
   "outputs": [
    {
     "data": {
      "text/plain": [
       "LinearRegression()"
      ]
     },
     "execution_count": 25,
     "metadata": {},
     "output_type": "execute_result"
    }
   ],
   "source": [
    "linreg3=LinearRegression()\n",
    "linreg3.fit(x3,y3)\n"
   ]
  },
  {
   "cell_type": "code",
   "execution_count": 26,
   "metadata": {},
   "outputs": [
    {
     "name": "stdout",
     "output_type": "stream",
     "text": [
      "[('Sex', 1241.7924996014194), ('Rank', 5586.181449521441), ('Year', 482.85976782882074), ('Degree', -1331.6440634059074), ('YSdeg', -128.79057354486062)]\n"
     ]
    }
   ],
   "source": [
    " # Features & Coefficients\n",
    "print(list(zip(feature, linreg3.coef_)))"
   ]
  },
  {
   "cell_type": "code",
   "execution_count": null,
   "metadata": {},
   "outputs": [],
   "source": []
  }
 ],
 "metadata": {
  "kernelspec": {
   "display_name": "Python 3",
   "language": "python",
   "name": "python3"
  },
  "language_info": {
   "codemirror_mode": {
    "name": "ipython",
    "version": 3
   },
   "file_extension": ".py",
   "mimetype": "text/x-python",
   "name": "python",
   "nbconvert_exporter": "python",
   "pygments_lexer": "ipython3",
   "version": "3.8.3"
  }
 },
 "nbformat": 4,
 "nbformat_minor": 1
}
